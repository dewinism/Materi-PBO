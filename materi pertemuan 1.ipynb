{
 "cells": [
  {
   "cell_type": "markdown",
   "metadata": {},
   "source": [
    "![](aku.jpg)\n",
    "\n",
    "# CLASS & OBJECT\n",
    "\n",
    "Class adalah kerangka yang berisi sebuah method dan property untuk membuat sebuah objek. Class merupakan sebuah objek yang di dalam nya biasanya terdapat beberapa metode yang memang merupakan isi dari sebuah class ini. Class dan metode ini biasa di sembut sebagai OOP atau object oriented programing. Dan OOP ini memang fungsinya untuk memudahkan proses atau kegiatan programing kita. Ya mirip degan sebuah metode yang sudah saya bahas sebelumnya, namun, class ini merupakan sebuah objek yang lebih complex dengan di dalamnya berisi beberapa metode.\n",
    "\n",
    "![](hiya.png)\n",
    "\n",
    "---\n",
    "\n",
    "```\n",
    "For Eg : \n",
    "\t~ Class : Laptop\n",
    "\t~ Object : Acer\n",
    "\t~ Property : \t\n",
    "        - processor core i5\n",
    "\t\t- RAM 4 GB\n",
    "\t\t- LCD 14 inci\n",
    "\t~ Method : didalam property digunakan apa saja/difungsikan\n",
    "```\n",
    "\n",
    "+ keyword class diikuti dengan nama class yang kita inginkan. Lebih baik digunakan kata yang diawali huruf kapital.\n",
    "+ constructor menggunakan method bawaan Python yang bernama init.\n",
    "    - Metode `__init__()` adalah metode konstruktor, yaitu metode khusus yang digunakan Python untuk menginisialisasi pembuatan objek dari kelas tersebut.\n",
    "+ Setiap method harus memiliki parameter self yang artinya method tersebut dimiliki dan terdaftar ke class tersebut untuk membedakan dari method atau fungsi yang ada di luar class.\n",
    "\n",
    "Contoh program class dan object."
   ]
  },
  {
   "cell_type": "code",
   "execution_count": 1,
   "metadata": {},
   "outputs": [
    {
     "name": "stdout",
     "output_type": "stream",
     "text": [
      "4\n",
      "Luas=  16\n",
      "Volume=  64\n",
      "Luas Permukaan=  96\n"
     ]
    }
   ],
   "source": [
    "class Kubus:\n",
    "    def __init__(self,s):\n",
    "        self.sisi = s\n",
    "    \n",
    "    def tampilkansisi(self):\n",
    "        print(self.sisi)\n",
    "        \n",
    "    def luas(self):\n",
    "        print(\"Luas= \",self.sisi**2)\n",
    "        \n",
    "    def volume(self):\n",
    "        print(\"Volume= \",self.sisi**3)\n",
    "        \n",
    "    def luaspermukaan(self):\n",
    "        print(\"Luas Permukaan= \",self.sisi**2*6)\n",
    "        \n",
    "        \n",
    "Kubus1 = Kubus(4)\n",
    "Kubus1.tampilkansisi()\n",
    "Kubus1.luas()\n",
    "Kubus1.volume()\n",
    "Kubus1.luaspermukaan()"
   ]
  },
  {
   "cell_type": "code",
   "execution_count": 1,
   "metadata": {},
   "outputs": [
    {
     "name": "stdout",
     "output_type": "stream",
     "text": [
      "adi , admin , 150000\n",
      "umur:  19\n"
     ]
    }
   ],
   "source": [
    "from datetime import datetime\n",
    "sekarang = datetime.now()\n",
    "tahun = sekarang.year\n",
    "\n",
    "class pegawai:\n",
    "    def __init__(self,n,j,g,lahir):\n",
    "        self.nama = n\n",
    "        self.jabatan = j\n",
    "        self.gaji = g\n",
    "        self.tahunlahir = lahir\n",
    "        \n",
    "    def tampilkan(self):\n",
    "        print(self.nama,\",\",self.jabatan,\",\",self.gaji*30)\n",
    "        \n",
    "    def tampilkanumur(self):\n",
    "        print(\"umur: \",tahun-self.tahunlahir)\n",
    "        \n",
    "        \n",
    "        \n",
    "pl = pegawai(\"adi\",\"admin\",5000,2000)\n",
    "pl.tampilkan()\n",
    "pl.tampilkanumur()"
   ]
  },
  {
   "cell_type": "code",
   "execution_count": 2,
   "metadata": {},
   "outputs": [
    {
     "name": "stdout",
     "output_type": "stream",
     "text": [
      "dwi , 180441100098 , 3\n",
      "selamat anda medapatkan bidikmisi.\n"
     ]
    }
   ],
   "source": [
    "class mahasiswa:\n",
    "    def __init__(self,nama,nim,ipk):\n",
    "        self.nama = nama\n",
    "        self.nim = nim\n",
    "        self.ipk = ipk\n",
    "        \n",
    "    def tampilkan(self):\n",
    "        print(self.nama,\",\",self.nim,\",\",self.ipk)\n",
    "        if self.ipk>=3:\n",
    "            print(\"selamat anda medapatkan bidikmisi.\")\n",
    "        else:\n",
    "            print(\"mohon maaf anda tidak mendapatkan bidikmisi.\")\n",
    "            \n",
    "            \n",
    "mhs = mahasiswa(\"dwi\",180441100098,3)\n",
    "mhs.tampilkan()"
   ]
  },
  {
   "cell_type": "code",
   "execution_count": 3,
   "metadata": {},
   "outputs": [
    {
     "name": "stdout",
     "output_type": "stream",
     "text": [
      "180441100097 , silvia dewi\n",
      "semester:  2\n"
     ]
    }
   ],
   "source": [
    "from datetime import datetime\n",
    "\n",
    "class mahasiswa:\n",
    "    def __init__(self,m,n):\n",
    "        self.npm = m\n",
    "        self.nama = n\n",
    "        self.angkatan = int(m[0:2])+2000\n",
    "        #self.thnskg = int(m[2:0])\n",
    "        \n",
    "    def tampilkan(self):\n",
    "        print(self.npm,\",\",self.nama)\n",
    "        \n",
    "    def tampilkansemester(self):\n",
    "        skg = datetime.now()\n",
    "        tahun = skg.year\n",
    "        self.bulan = skg.month\n",
    "        print(\"semester: \", (skg.year - self.angkatan)*2 + skg.month//6)\n",
    "        \n",
    "        \n",
    "mh = mahasiswa('180441100097',\"silvia dewi\")\n",
    "mh.tampilkan()\n",
    "mh.tampilkansemester()"
   ]
  },
  {
   "cell_type": "markdown",
   "metadata": {},
   "source": [
    "# INHERITANCE\n",
    "\n",
    "### 1. PENGERTIAN INHERITANCE\n",
    "Inheritance (warisan atau turunan) adalah sebuah konsep yang penting didalam Python.Inheritance adalah sebuah proses dimana sebuah class mengambil semua properti dan semua metode dari kelas lain.\n",
    "Contoh dari unit sebelumnya tentang class Kendaraan. Sebelumnya kita membuat motordan mobil berdasarkan Kendaraan. Tetapi kita akan mengalami masalah karena motor dan mobil walaupun memiliki banyak kesamaan tetapi mereka sebenarnya berbeda. Solusinya adalah kita membuat kelas baru bernama Mobil dan Motoryang merupakan turunan Kendaraan. Di Kendaraankita definisikan semua metode dan semua properti yang umum dimiliki sebuah kendaraan. Lalu di Mobil dan Motor kita definisikan metode dan properti yang unik untuk masing-masing kelas tersebut.\n",
    "\n",
    "![](kamu.jpg)\n",
    "\n",
    "### 2. TYPE OF INHERITANCE\n",
    "\n",
    "+ Kelas dapat mewarisi fungsionalitas kelas lain. Jika suatu objek dibuat menggunakan kelas yang mewarisi dari superclass, objek tersebut akan berisi metode kelas dan superclass.\n",
    "+ Pewarisan / Penurunan adalah konsep pemrograman dimana sebuah class dapat 'menurunkan' property dan method yang dimilikinya kepada class lain.\n",
    "\n",
    "#### ~ Overriding : Properti / Metode\n",
    "Namun, kadang-kadang, kita ingin memanfaatkan beberapa perilaku kelas orang tua tetapi tidak semuanya. Ketika kami mengubah metode kelas induk kami menimpanya .\n",
    "\n",
    "Enables kelas anak untuk memberikan implementasi yang berbeda untuk metode yang sudah didefinisikan dan / atau diimplementasikan di kelas induknya atau salah satu kelas induknya. Metode overriden di kelas anak harus memiliki nama, tanda tangan, dan parameter yang sama dengan yang ada di kelas induknya.\n",
    "\n",
    "Overriding: kelas anak dapat mengatur nilai properti / metode pada kelas induk\n",
    "+ Hiu, tidak seperti ikan bertulang, memiliki kerangka yang terbuat dari tulang rawan, bukan tulang. Mereka juga memiliki kelopak mata dan tidak bisa berenang mundur. Namun, hiu dapat bermanuver mundur dengan tenggelam .\n",
    "+ kita akan mengesampingkan __init __ () metode konstruktor dan swim_backwards () metode.\n",
    "\n",
    "#### ~ Super :Properti\n",
    "Fungsi super () paling umum digunakan dalam metode __init __ () karena di situlah Anda kemungkinan besar perlu menambahkan beberapa keunikan ke kelas anak dan kemudian menyelesaikan inisialisasi dari orangtua.\n",
    "+ Kami telah menimpa metode __init __ () di kelas anak Trout, memberikan implementasi yang berbeda dari __init __ () yang sudah ditentukan oleh Fish kelas induknya.\n",
    "\n",
    "#### ~ Multiple inheritance \n",
    "adalah ketika sebuah kelas dapat mewarisi atribut dan metode dari lebih dari satu kelas induk.\n",
    "\n",
    "\n",
    "\n",
    "Contoh program inheritance."
   ]
  },
  {
   "cell_type": "code",
   "execution_count": 4,
   "metadata": {},
   "outputs": [
    {
     "name": "stdout",
     "output_type": "stream",
     "text": [
      "Name = brian\n",
      "Name = diana\n",
      "Programming Python\n"
     ]
    }
   ],
   "source": [
    "class user:\n",
    "    name = \"\"\n",
    "    def __init__(self, name):\n",
    "        self.name = name\n",
    "    def printName(self):\n",
    "        print (\"Name = \" + self.name)\n",
    "        \n",
    "class programmer(user):\n",
    "    def __init__(self,name):\n",
    "        self.name = name\n",
    "    def doPython(self):\n",
    "        print (\"Programming Python\")\n",
    "        \n",
    "brian = user(\"brian\")\n",
    "brian.printName()\n",
    "diana = programmer(\"diana\")\n",
    "diana.printName()\n",
    "\n",
    "diana.doPython()"
   ]
  },
  {
   "cell_type": "code",
   "execution_count": 5,
   "metadata": {},
   "outputs": [
    {
     "name": "stdout",
     "output_type": "stream",
     "text": [
      "TerryFish\n",
      "bone\n",
      "False\n",
      "The fish is swimming\n",
      "The fish can swim backwards.\n",
      "CaseyFish\n",
      "The fish is swimming\n",
      "The clownfish is coexisting with sea anemone.\n"
     ]
    }
   ],
   "source": [
    "#perbedaan pertama\n",
    "class fish:\n",
    "    def __init__(self,first_name,last_name=\"Fish\",skeleton=\"bone\",eyelids=\"False\"):\n",
    "        self.first_name = first_name\n",
    "        self.last_name = last_name\n",
    "        self.skeleton = skeleton\n",
    "        self.eyelids = eyelids\n",
    "        \n",
    "    def swim(self):\n",
    "        print(\"The fish is swimming\")\n",
    "    def swim_backwards(self):\n",
    "        print(\"The fish can swim backwards.\")\n",
    "        \n",
    "class trout(fish):\n",
    "    pass\n",
    "\n",
    "class clownfish(fish):\n",
    "    def live_with_anemone(self):\n",
    "        print(\"The clownfish is coexisting with sea anemone.\")\n",
    "        \n",
    "terry = trout(\"Terry\")\n",
    "print(terry.first_name + \"\" + terry.last_name)\n",
    "print(terry.skeleton)\n",
    "print(terry.eyelids)\n",
    "terry.swim()\n",
    "terry.swim_backwards()\n",
    "casey = clownfish(\"Casey\")\n",
    "print(casey.first_name + \"\" + casey.last_name)\n",
    "casey.swim()\n",
    "casey.live_with_anemone()"
   ]
  },
  {
   "cell_type": "code",
   "execution_count": 6,
   "metadata": {},
   "outputs": [
    {
     "name": "stdout",
     "output_type": "stream",
     "text": [
      "shark\n"
     ]
    }
   ],
   "source": [
    "#perbedaan kedua\n",
    "class fish:\n",
    "    def __init__(self,first_name,last_name=\"Fish\",skeleton=\"bone\",eyelids=\"False\"):\n",
    "        self.first_name = first_name\n",
    "        self.last_name = last_name\n",
    "        self.skeleton = skeleton\n",
    "        self.eyelids = eyelids\n",
    "        \n",
    "class shark(fish):\n",
    "    def __init__(self,first_name,last_name=\"Shark\",skeleton=\"cartilage\",eyelids=\"True\"):\n",
    "        self.first_name = first_name\n",
    "        self.last_name = last_name\n",
    "        self.skeleton = skeleton\n",
    "        self.eyelids = eyelids\n",
    "        \n",
    "    def swim_backwards(self):\n",
    "        print(\"The shark cannot swim backwards, but can sink baeckwards.\")\n",
    "        \n",
    "class trout(fish):\n",
    "    def __init__(self,water,first_name,last_name,skeleton,eyelids):\n",
    "        self.water = water\n",
    "        super().__init__(first_name,last_name,skeleton,eyelids)\n",
    "\n",
    "class clownfish(fish):\n",
    "    def live_with_anemone(self):\n",
    "        print(\"The clownfish is coexisting with sea anemone.\")\n",
    "        \n",
    "terry = trout(\"freshwater\",\"shark\",\"fish\",\"no bone\",\"true\")\n",
    "print(terry.first_name)"
   ]
  },
  {
   "cell_type": "code",
   "execution_count": null,
   "metadata": {},
   "outputs": [],
   "source": [
    "class coral:\n",
    "    def community(self):\n",
    "        print(\"Coral lives in a community\")\n",
    "    \n",
    "class anemone:\n",
    "    def protect_clownfish(self):\n",
    "        print(\"The anemone is protectiing the clownfish\")\n",
    "        \n",
    "class coralreef(coral,anemone):\n",
    "    pass\n",
    "\n",
    "great_barries = coralreef()\n",
    "great_barries.community()\n",
    "great_barries.protect_clownfish()"
   ]
  },
  {
   "cell_type": "code",
   "execution_count": 7,
   "metadata": {},
   "outputs": [
    {
     "name": "stdout",
     "output_type": "stream",
     "text": [
      "Hello=  brian diana\n"
     ]
    }
   ],
   "source": [
    "class user:\n",
    "    def __init__(self,first_name):\n",
    "        self._first_name = first_name\n",
    "    def printName(self):\n",
    "        print (\"First Name = \" + self._first_name)\n",
    "        \n",
    "class programmer(user):\n",
    "    def __init__(self,first_name,last_name):\n",
    "        self.last_name = last_name\n",
    "        super().__init__(first_name)\n",
    "    def printName(self):\n",
    "        print (\"Hello= \",self._first_name + \" \" + self.last_name)\n",
    "        \n",
    "diana = programmer(\"brian\",\"diana\")\n",
    "diana.printName()"
   ]
  },
  {
   "cell_type": "markdown",
   "metadata": {},
   "source": [
    "# POLYMORPHISME\n",
    "\n",
    "![](polymor.jpg)\n",
    "\n",
    "Dalam arti harfiah, Polymorphisme berarti kemampuan untuk mengambil berbagai bentuk. Dalam Python, Polymorphisme memungkinkan kita untuk mendefinisikan metode dalam kelas anak dengan nama yang sama seperti yang didefinisikan dalam kelas induknya.\n",
    "\n",
    "Seperti yang kita ketahui, kelas anak mewarisi semua metode dari kelas induk. Namun, Anda akan menghadapi situasi di mana metode yang diwarisi dari kelas induk tidak cukup cocok dengan kelas anak. Dalam kasus seperti itu, Anda harus menerapkan kembali metode di kelas anak. Proses ini dikenal sebagai Metode Overriding.\n",
    "\n",
    "Jika Anda telah menimpa metode di kelas anak, maka versi metode akan dipanggil berdasarkan jenis objek yang digunakan untuk memanggilnya. Jika objek kelas anak digunakan untuk memanggil metode yang diganti maka versi kelas anak dari metode ini dipanggil. Di sisi lain, jika objek kelas induk digunakan untuk memanggil metode yang diganti, maka versi kelas induk dari metode ini dipanggil.\n",
    "\n",
    "Program berikut menunjukkan metode yang menggantikannya dalam tindakan:"
   ]
  },
  {
   "cell_type": "code",
   "execution_count": 8,
   "metadata": {},
   "outputs": [
    {
     "name": "stdout",
     "output_type": "stream",
     "text": [
      "The shark's skeleton is made of cartilage.\n",
      "The clownfish's skeleton is made of bone.\n",
      "The shark is swimming.\n",
      "The clownfish is swimming.\n"
     ]
    }
   ],
   "source": [
    "class shark():\n",
    "    def swim(self):\n",
    "        print(\"The shark is swimming.\")\n",
    "    def swim_backward(self):\n",
    "        print(\"The shark cannot swim backward, but can sink backward.\")\n",
    "    def skeleton(self):\n",
    "        print(\"The shark's skeleton is made of cartilage.\")\n",
    "        \n",
    "class clownfish():\n",
    "    def swim(self):\n",
    "        print(\"The clownfish is swimming.\")\n",
    "    def swim_backward(self):\n",
    "        print(\"The clownfish can swim backward.\")\n",
    "    def skeleton(self):\n",
    "        print(\"The clownfish's skeleton is made of bone.\")\n",
    "        \n",
    "sammy = shark()\n",
    "sammy.skeleton()\n",
    "\n",
    "cassy = clownfish()\n",
    "cassy.skeleton()\n",
    "\n",
    "def in_the_pacific(fish):\n",
    "    fish.swim()\n",
    "    \n",
    "in_the_pacific(sammy)\n",
    "in_the_pacific(cassy)"
   ]
  },
  {
   "cell_type": "code",
   "execution_count": 9,
   "metadata": {},
   "outputs": [
    {
     "name": "stdout",
     "output_type": "stream",
     "text": [
      "Groarr\n",
      "woof woof\n"
     ]
    }
   ],
   "source": [
    "class bear():\n",
    "    def sound(self):\n",
    "        print(\"Groarr\")\n",
    "class dog():\n",
    "    def sound(self):\n",
    "        print(\"woof woof\")\n",
    "        \n",
    "def makeSound(animal):\n",
    "    animal.sound()\n",
    "    \n",
    "bearObj = bear()\n",
    "dogObj = dog()\n",
    "\n",
    "makeSound(bearObj)\n",
    "makeSound(dogObj)"
   ]
  },
  {
   "cell_type": "code",
   "execution_count": 10,
   "metadata": {},
   "outputs": [
    {
     "name": "stdout",
     "output_type": "stream",
     "text": [
      "The shark is swimming.\n",
      "The shark cannot swim backward, but can sink backward.\n",
      "The shark's skeleton is made of cartilage.\n",
      "The clownfish is swimming.\n",
      "The clownfish can swim backward.\n",
      "The clownfish's skeleton is made of bone.\n"
     ]
    }
   ],
   "source": [
    "class shark():\n",
    "    def swim(self):\n",
    "        print(\"The shark is swimming.\")\n",
    "    def swim_backward(self):\n",
    "        print(\"The shark cannot swim backward, but can sink backward.\")\n",
    "    def skeleton(self):\n",
    "        print(\"The shark's skeleton is made of cartilage.\")\n",
    "        \n",
    "class clownfish():\n",
    "    def swim(self):\n",
    "        print(\"The clownfish is swimming.\")\n",
    "    def swim_backward(self):\n",
    "        print(\"The clownfish can swim backward.\")\n",
    "    def skeleton(self):\n",
    "        print(\"The clownfish's skeleton is made of bone.\")\n",
    "        \n",
    "sammy = shark()\n",
    "cassy = clownfish()\n",
    "\n",
    "for fish in(sammy,cassy):\n",
    "    fish.swim()\n",
    "    fish.swim_backward()\n",
    "    fish.skeleton()"
   ]
  },
  {
   "cell_type": "code",
   "execution_count": 11,
   "metadata": {},
   "outputs": [
    {
     "name": "stdout",
     "output_type": "stream",
     "text": [
      "Document1: Show pdf contants !\n",
      "Document2: Show pdf contants !\n",
      "Document3: Show word contants !\n"
     ]
    }
   ],
   "source": [
    "class document():\n",
    "    def __init__(self,name):\n",
    "        self.name = name\n",
    "        \n",
    "    def show(self):\n",
    "        raise NotImplemetedError(\"Subclass must implement abstract method\")\n",
    "        \n",
    "class pdf(document):\n",
    "    def show(self):\n",
    "        return 'Show pdf contants !'\n",
    "    \n",
    "class word(document):\n",
    "    def show(self):\n",
    "        return 'Show word contants !'\n",
    "    \n",
    "documents = [pdf('Document1'),\n",
    "            pdf('Document2'),\n",
    "            word('Document3')]\n",
    "for document in documents:\n",
    "    print(document.name + \": \" + document.show())"
   ]
  },
  {
   "cell_type": "code",
   "execution_count": 12,
   "metadata": {},
   "outputs": [
    {
     "name": "stdout",
     "output_type": "stream",
     "text": [
      "Bananatruck :  Truck driving slowly because haeavily loaded .\n",
      "Orangetruck :  Truck driving slowly because haeavily loaded .\n",
      "23 :  Sportscar driving !\n"
     ]
    }
   ],
   "source": [
    "class car():\n",
    "    def __init__(self,name):\n",
    "        self.name = name\n",
    "    def drive(self):\n",
    "        raise NotImplementtedError(\"Subclass must implement abstract method\")\n",
    "    def stop(self):\n",
    "        raise NotImplementedError(\"Subclass must implement abstract method\")\n",
    "        \n",
    "class sportscar(car):\n",
    "    def drive(self):\n",
    "        return 'Sportscar driving !'\n",
    "    def stop(self):\n",
    "        return 'Sportscar braking !'\n",
    "    \n",
    "class truck(car):\n",
    "    def drive(self):\n",
    "        return 'Truck driving slowly because haeavily loaded .'\n",
    "    def stop(self):\n",
    "        return 'Truck braking !'\n",
    "    \n",
    "cars = [truck('Bananatruck'),\n",
    "       truck('Orangetruck'),\n",
    "       sportscar('23')]\n",
    "\n",
    "for car in cars:\n",
    "    print(car.name,\": \",car.drive())"
   ]
  },
  {
   "cell_type": "markdown",
   "metadata": {},
   "source": [
    "# Operator and Method Overloading\n",
    "\n",
    "![](method.PNG)\n",
    "\n",
    "### What is operator overloading in Python?\n",
    "Operator python bekerja untuk kelas bawaan. Tetapi operator yang sama berperilaku berbeda dengan tipe yang berbeda. Misalnya, operator + akan, melakukan penambahan aritmatika pada dua angka, menggabungkan dua daftar dan menggabungkan dua string.\n",
    "\n",
    "Fitur ini dalam Python, yang memungkinkan operator yang sama untuk memiliki makna yang berbeda sesuai dengan konteksnya disebut operator overloading.\n",
    "\n",
    "Jadi apa yang terjadi ketika kita menggunakannya dengan objek dari kelas yang ditentukan pengguna? Mari kita perhatikan kelas berikut, yang mencoba mensimulasikan suatu titik dalam sistem koordinat 2-D.\n",
    "\n",
    "### Special Functions in Python.\n",
    "Fungsi kelas yang dimulai dengan double garis bawah __ disebut fungsi khusus dalam Python. Ini karena, yah, mereka tidak biasa. Fungsi __init __ () yang kami definisikan di atas, adalah salah satunya. Itu dipanggil setiap kali kita membuat objek baru dari kelas itu. Ada banyak fungsi khusus di Python.\n",
    "\n",
    "### Overloading the + Operator in Python.\n",
    "Untuk membebani tanda +, kita perlu mengimplementasikan fungsi __add __ () di kelas. Dengan kekuatan besar datang tanggung jawab besar. Kita dapat melakukan apapun yang kita suka, di dalam fungsi ini. Tetapi masuk akal untuk mengembalikan objek Point dari jumlah koordinat.\n",
    "\n",
    "### Operator Overloading Special Functions in Python\n",
    "![](operator.PNG)\n",
    "\n",
    "Contoh program berikut ini."
   ]
  },
  {
   "cell_type": "code",
   "execution_count": 13,
   "metadata": {},
   "outputs": [
    {
     "name": "stdout",
     "output_type": "stream",
     "text": [
      "100\n"
     ]
    }
   ],
   "source": [
    "#def product(a,b):\n",
    " #   p=a*b\n",
    "  #  print(p)\n",
    "    \n",
    "def product(a,b,c):\n",
    "    p=a*b*c\n",
    "    print(p)\n",
    "    \n",
    "#product(4,5)\n",
    "product(4,5,5)"
   ]
  },
  {
   "cell_type": "code",
   "execution_count": 14,
   "metadata": {},
   "outputs": [
    {
     "name": "stdout",
     "output_type": "stream",
     "text": [
      "11\n",
      "HiGeeks\n"
     ]
    }
   ],
   "source": [
    "def add(datatype, *args):\n",
    "    if datatype ==\"int\":\n",
    "        answer = 0    \n",
    "    if datatype ==\"str\":\n",
    "        answer = \"\"\n",
    "    for x in args:\n",
    "        answer = answer+ x\n",
    "        \n",
    "    print(answer)\n",
    "    \n",
    "#integer\n",
    "add(\"int\",5,6)\n",
    "\n",
    "#string\n",
    "add(\"str\",\"Hi\",\"Geeks\")"
   ]
  },
  {
   "cell_type": "code",
   "execution_count": 15,
   "metadata": {},
   "outputs": [
    {
     "name": "stdout",
     "output_type": "stream",
     "text": [
      "Hello\n",
      "HelloGuido\n"
     ]
    }
   ],
   "source": [
    "class human:\n",
    "    def sayhello(self,name=None):\n",
    "        if name is not None:\n",
    "            print('Hello' + name)\n",
    "        else:\n",
    "            print('Hello')\n",
    "#create initance\n",
    "obj = human()\n",
    "\n",
    "#call the method\n",
    "obj.sayhello()\n",
    "\n",
    "#call the method with a parameter\n",
    "obj.sayhello(\"Guido\")"
   ]
  },
  {
   "cell_type": "code",
   "execution_count": 16,
   "metadata": {},
   "outputs": [
    {
     "name": "stdout",
     "output_type": "stream",
     "text": [
      "point object is at: (3,1)\n",
      "point object is at: (1,5)\n"
     ]
    }
   ],
   "source": [
    "class point:\n",
    "    def __init__(self,x=0,y=0):\n",
    "        self.x = x\n",
    "        self.y = y\n",
    "    #def __str__(self):\n",
    "    #return \"({0},{1})\".format(self.x,self.y)\n",
    "    def __str__(self):\n",
    "        return \"point object is at: (\"+ str(self.x) +\",\"+ str(self.y) +\")\"\n",
    "    def __sub__(self,other):\n",
    "        x = self.x - other.x\n",
    "        y = self.y - other.y\n",
    "        return point(x,y)\n",
    "    def __add__(self,other):\n",
    "        x = self.x + other.x\n",
    "        y = self.y + other.y\n",
    "        return point(x,y)\n",
    "p1 = point(2,3)\n",
    "p2 = point(-1,2)\n",
    "print(p1 - p2)\n",
    "print(p1 + p2)"
   ]
  },
  {
   "cell_type": "code",
   "execution_count": 17,
   "metadata": {},
   "outputs": [
    {
     "name": "stdout",
     "output_type": "stream",
     "text": [
      "2/4\n",
      "8/8\n"
     ]
    }
   ],
   "source": [
    "class fraction:\n",
    "    def __init__(self,top,buttom):\n",
    "        self.num = top\n",
    "        self.den = buttom\n",
    "        \n",
    "    #def show(self):\n",
    "    #   print(self.num,\"/\",self.den)\n",
    "    def __str__(self):\n",
    "        return str(self.num)+\"/\"+str(self.den)\n",
    "    def __add__(self,otherfraction):\n",
    "        newnum = self.num*otherfraction.den + self.den*otherfraction.num\n",
    "        newden = self.den*otherfraction.den \n",
    "        return fraction(newnum,newden)\n",
    "\n",
    "f = fraction(2,4)\n",
    "#show(f)\n",
    "print(f)\n",
    "\n",
    "f1 = fraction(2,4)\n",
    "f2 = fraction(1,2)\n",
    "print(f1.__add__(f2))"
   ]
  },
  {
   "cell_type": "markdown",
   "metadata": {},
   "source": [
    "# ENCAPSULATION\n",
    "\n",
    "![](images.png)\n",
    "\n",
    "Encapsulation adalah membungkus class dan menjaga apa apa saja yang ada didalam class tersebut, baik method ataupun atribut, agar tidak dapat di akses oleh class lainnya. Untuk menjaga hal tersebut dalam Encapsulation dikenal nama Hak Akses Modifier yang terdiri dari :\n",
    "    \n",
    "1. Private :  memberikan hak akses hanya pada class itu sendiri, artinya apa-apa saja yang ada di dalam class A baik itu method ataupun atribut hanya bisa diakses oleh class A saja, class lain tidak bisa mengaksesnya.\n",
    "2. Public : memberikan hak akses kepada atribut atau method agar bisa diakses oleh siapapun (property atau class lain diluar class yang bersangkutan), artinya method atau atribut yang ada diclass A dapat diakses oleh siapaun baik itu class A, class B dan seterusnya.\n",
    "3. Protected : memberikan hak akses kepada class itu sendiri dan class hasil turunannya (inheritance), artinya apa apa saja yang ada diclass A hanya bisa diakses oleh class A sendiri dan class yang meng Extends class A. Namun harus dipahami class lain yang berada dalam satu package dengan class A mampu mengakses tipe data protected, Sedangkan yang tidak mampu mengakses adalah class-class yang berada diluar package class A. untuk dapat mengaksesnya, class yang berada diluar package class A harus meng extends class A.\n",
    "\n",
    "![](images2.png)\n",
    "\n",
    "---\n",
    "Menggunakan OOP dengan Python, kita dapat membatasi akses ke metode dan variabel. Ini mencegah data dari modifikasi langsung yang disebut enkapsulasi. Dalam Python, kami menunjukkan atribut pribadi menggunakan underscore sebagai awalan yaitu tunggal \"_\" atau ganda \"__\".\n",
    "    \n",
    "Berikut contoh program Encapsulation."
   ]
  },
  {
   "cell_type": "code",
   "execution_count": 3,
   "metadata": {},
   "outputs": [
    {
     "name": "stdout",
     "output_type": "stream",
     "text": [
      "22\n",
      "23\n",
      "23\n"
     ]
    }
   ],
   "source": [
    "class robot(object):\n",
    "    def __init__(self):\n",
    "        self.__version = 22    #private atribut\n",
    "        \n",
    "    def getversion(self):\n",
    "        print(self.__version)   #mengakses private atribut\n",
    "        \n",
    "    def setversion(self,version):\n",
    "        self.__version = version   #mensetting private atribut\n",
    "        \n",
    "obj = robot()\n",
    "obj.getversion()\n",
    "obj.setversion(23)\n",
    "obj.getversion()\n",
    "print(obj._robot__version)"
   ]
  },
  {
   "cell_type": "code",
   "execution_count": 1,
   "metadata": {},
   "outputs": [
    {
     "name": "stdout",
     "output_type": "stream",
     "text": [
      "This is a public method\n",
      "This is a private method\n",
      "This is another private method\n"
     ]
    }
   ],
   "source": [
    "class A(object):\n",
    "    #public method\n",
    "    def myPublicMethod(self):\n",
    "        return \"This is a public method\"\n",
    "    #privat method with single_underscore\n",
    "    def _myPrivateMethod(self):\n",
    "        return \"This is a private method\"\n",
    "    #private method with double_underscore\n",
    "    def __myAnotherPrivateMethod(self):\n",
    "        return \"This is another private method\"\n",
    "    \n",
    "obj = A()\n",
    "print(obj.myPublicMethod())     \n",
    "print(obj._myPrivateMethod()) \n",
    "print(obj._A__myAnotherPrivateMethod()) "
   ]
  },
  {
   "cell_type": "code",
   "execution_count": 4,
   "metadata": {},
   "outputs": [
    {
     "name": "stdout",
     "output_type": "stream",
     "text": [
      "driving .maxspeed200\n",
      "driving .maxspeed10\n"
     ]
    }
   ],
   "source": [
    "class car:\n",
    "    __maxspeed = 0\n",
    "    __name = \"\"\n",
    "    \n",
    "    def __init__(self):\n",
    "        self.__maxspeed = 200 \n",
    "        self.__name = \"superCar\"\n",
    "    def setmaxspeed(self,maxspeed):\n",
    "        self.__maxspeed = maxspeed\n",
    "    def drive(self):\n",
    "        print(\"driving .maxspeed\"+str(self.__maxspeed))\n",
    "        \n",
    "redcar = car()\n",
    "redcar.drive()\n",
    "redcar.setmaxspeed(10)\n",
    "redcar.drive()"
   ]
  }
 ],
 "metadata": {
  "kernelspec": {
   "display_name": "Python 3",
   "language": "python",
   "name": "python3"
  },
  "language_info": {
   "codemirror_mode": {
    "name": "ipython",
    "version": 3
   },
   "file_extension": ".py",
   "mimetype": "text/x-python",
   "name": "python",
   "nbconvert_exporter": "python",
   "pygments_lexer": "ipython3",
   "version": "3.7.1"
  }
 },
 "nbformat": 4,
 "nbformat_minor": 2
}
